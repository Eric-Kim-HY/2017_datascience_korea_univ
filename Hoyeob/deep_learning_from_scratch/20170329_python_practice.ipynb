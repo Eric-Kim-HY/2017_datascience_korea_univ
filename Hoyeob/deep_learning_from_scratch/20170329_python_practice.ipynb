{
 "cells": [
  {
   "cell_type": "code",
   "execution_count": 26,
   "metadata": {
    "collapsed": true
   },
   "outputs": [],
   "source": [
    "import bs4\n",
    "import urllib.request\n",
    "import nltk"
   ]
  },
  {
   "cell_type": "code",
   "execution_count": 27,
   "metadata": {
    "collapsed": true
   },
   "outputs": [],
   "source": [
    "htmlData = urllib.request.urlopen('http://edition.cnn.com/2017/03/28/politics/donald-trump-climate-change-executive-order/index.html')"
   ]
  },
  {
   "cell_type": "code",
   "execution_count": 28,
   "metadata": {
    "collapsed": true
   },
   "outputs": [],
   "source": [
    "bs = bs4.BeautifulSoup(htmlData, 'lxml')  # 어떤형식으로 lxml 형식으로 parsing 해서 bs에 저장"
   ]
  },
  {
   "cell_type": "code",
   "execution_count": 29,
   "metadata": {
    "collapsed": true
   },
   "outputs": [],
   "source": [
    "\"\"\"\n",
    "개발자 도구를 통해 크롬 F12 눌러서 확인 자료가 들어가 있는 태그 확인 필요\n",
    "\"\"\"\n",
    "\n",
    "bodies = bs.findAll('div', 'zn-body__paragraph') # div tag, zn-body class"
   ]
  },
  {
   "cell_type": "code",
   "execution_count": 30,
   "metadata": {
    "collapsed": true
   },
   "outputs": [],
   "source": [
    "#bodies_ = bs.findAll('div','js-gigya-sharebar gigya-sharebar')"
   ]
  },
  {
   "cell_type": "code",
   "execution_count": 31,
   "metadata": {
    "collapsed": false,
    "scrolled": true
   },
   "outputs": [
    {
     "name": "stdout",
     "output_type": "stream",
     "text": [
      "But the executive order, while sweeping, does not do everything the Trump administration thinks. It is unlikely to bring a restoration of the coal industry, is certain to be caught up in court for years, and on its own, doesn't pull the US out of the Paris accords.\n",
      "Here is a breakdown of what Trump's executive order accomplishes and what it doesn't:\n",
      "What does Trump hope to achieve?\n",
      "Donald Trump's executive order on climate change, his advisers say, is the President's attempt to put American jobs first.\n",
      "RELATED: Trump move to roll back climate rules won't bring back coal or mining jobs\n",
      "\"It is an issue that deserves attention,\" an official said Monday of climate change. \"But I think the President has been very clear that he is not going to pursue climate change policies that put the US economy at risk. It is very simple.\"\n",
      "Trump has long been a critic of climate change policies, even going so far to call climate change a \"hoax\" perpetrated by the Chinese. \n",
      "White House press secretary Sean Spicer would not say Tuesday whether Trump still believes climate change is a hoax.\n",
      "\"He does not believe, as I mentioned at the outset, that there is a binary choice between job creation, economic growth and caring about the environment,\" Spicer said. \"That's what we should be focusing on.\"\n",
      "EPA Administrator Scott Pruitt, who sued the EPA routinely as Oklahoma attorney general, argued incorrectly earlier this month that carbon dioxide isn't the \"primary contributor\" to climate change, a comment that goes against most scientific research.\n",
      "What is he actually reversing?\n",
      "Trump's executive order takes a hammer to the moves President Barack Obama took to combat climate change.\n",
      "It directs EPA to review Obama's Clean Power Plan, rescind the moratorium on coal mining on US federal lands and urge federal agencies to \"identify all regulations, all rules, all policies ... that serve as obstacles and impediments to American energy independence,\" the official said.\n",
      "It also goes directly after Obama's record, repealing at least six Obama-era executive orders aimed at addressing global warming, including a series of orders that instructed the federal government to prepare for the impacts of climate change.\n",
      "Can Trump actually do all this?\n",
      "It's unclear. Many of these moves will certainly end up in court.\n",
      "Experts said Tuesday that getting rid of the Clean Power Plan, the 2014 plan that put a limit to the amount of carbon dioxide produced by a range of power plants, will be far harder than just signing a document.\n",
      "\"The executive order does not make the Clean Power (Plan) go away,\" said Richard Revesz, Director of the Institute for Policy Integrity at NYU School of Law. \"This is the first move of a long chess game that will take years to unfold, and future moves will be far more challenging.\"\n",
      "Revesz added that the executive order \"has no legal significance at all\" because it will be part of a process that has \"many significant hurdles built in.\n",
      "\"The executive order will be challenged legally because it undermines the Supreme Court's Massachusetts vs. EPA decision, which ruled that the government has a duty to limit climate pollution under the Clean Air Act assuming an endangerment finding, which was issued in 2009, upheld by the Supreme Court in 2012, and served as the basis of the carbon pollution limits for new and existing power plants,\" the National Wildlife Federation said on Tuesday.\n",
      "Didn't Obama also run into legal hurdles?\n",
      "Yes.\n",
      "The Clean Power Plan went to court after Obama unveiled it in 2015. Opponents argue that the EPA went too far under the law to push the rule, while advocates say the agency has the authority to regulate carbon emissions.\n",
      "The Supreme Court delayed implantation of the rule in February 2016. Since then, a panel of the US Appeals Court for the District of Columbia Circuit heard oral arguments on the merits of the rule, but has yet to weigh in. \n",
      "What happens with the Paris Climate agreement?\n",
      "That is to be determined.\n",
      "A White House official told reporters that he would not comment -- good or bad -- on Paris because the Trump administration is still determining whether to withdraw from the landmark climate deal that was struck in 2016.\n",
      "Trump promised throughout the 2016 campaign that he would pull out of the Paris deal, but the fact he has yet to do some is left some environmental advocates hopeful that he may remain in the agreement.\n",
      "RELATED: The Paris Agreement is bigger than Trump ... isn't it?\n",
      "Even so, if the changes Trump is proposing go through, it will be difficult for the United States to comply with the requirements outlined in the agreement.\n",
      "How have environmental advocates reacted?\n",
      "With a mix of horror and resolve.\n",
      "Most understand that Trump's order will go to court, and a number have questioned whether Trump will even be able to implement his order. But what Trump has made clear with the order is that he plans to do a 180-degree turn when it comes to climate change.\n",
      "\"On the heels of the three hottest years on record, President Trump is reversing the biggest steps our country has taken (toward) fighting climate change,\" League of Conservation Voters President Gene Karpinski said in a statement. \"Rolling back these public health protections shows Trump cares more about big polluters than the well-being of our communities.\"\n",
      "Christiana Figueres, former executive secretary of the United Nations Framework Convention on Climate Change, said Trump's executive order \"will make things harder, not easier for Americans.\"\n",
      "Can coal jobs really come back?\n",
      "Trump made this a key promise during his 2016 campaign especially during primaries in states with a number of coal jobs, and in Ohio and Pennsylvania during the general election.\n",
      "But it is unlikely that Trump will actually be able to deliver on that promise, due in large part to market forces. The dramatic increase in natural gas production over the past decade, and associated falling prices, means it may not be economical for a coal comeback.\n",
      "Robert Murray, founder and chief executive of Murray Energy, told CNN in January that he asked Trump during a meeting to \"temper\" his coal promises.\n",
      "Murray said that coal employment \"can't be brought back to where it was before the election of Barack Obama.\"\n",
      "Trump's executive order would, however, move to make it easier to mine coal by rescinding the moratorium on coal mining on US federal lands and opening the door to fewer restrictions on carbon emissions produced by power plants.\n",
      "Doesn't this come as worldwide temperatures are rising?\n",
      "Yes. The World Meteorological Organization, the National Oceanic and Atmospheric Administration and NASA found that 2016 was the warmest year on record, and the third consecutive year to rank hotter than all previous years.\n",
      "This, climate scientists say, can only be explained by one thing: Man-made greenhouse gas emissions. \n"
     ]
    }
   ],
   "source": [
    "for body in bodies :\n",
    "    print(body.getText())"
   ]
  },
  {
   "cell_type": "code",
   "execution_count": 32,
   "metadata": {
    "collapsed": false,
    "scrolled": true
   },
   "outputs": [
    {
     "name": "stdout",
     "output_type": "stream",
     "text": [
      "But the executive order, while sweeping, does not do everything the Trump administration thinks. It is unlikely to bring a restoration of the coal industry, is certain to be caught up in court for years, and on its own, doesn't pull the US out of the Paris accords.Here is a breakdown of what Trump's executive order accomplishes and what it doesn't:What does Trump hope to achieve?Donald Trump's executive order on climate change, his advisers say, is the President's attempt to put American jobs first.RELATED: Trump move to roll back climate rules won't bring back coal or mining jobs\"It is an issue that deserves attention,\" an official said Monday of climate change. \"But I think the President has been very clear that he is not going to pursue climate change policies that put the US economy at risk. It is very simple.\"Trump has long been a critic of climate change policies, even going so far to call climate change a \"hoax\" perpetrated by the Chinese. White House press secretary Sean Spicer would not say Tuesday whether Trump still believes climate change is a hoax.\"He does not believe, as I mentioned at the outset, that there is a binary choice between job creation, economic growth and caring about the environment,\" Spicer said. \"That's what we should be focusing on.\"EPA Administrator Scott Pruitt, who sued the EPA routinely as Oklahoma attorney general, argued incorrectly earlier this month that carbon dioxide isn't the \"primary contributor\" to climate change, a comment that goes against most scientific research.What is he actually reversing?Trump's executive order takes a hammer to the moves President Barack Obama took to combat climate change.It directs EPA to review Obama's Clean Power Plan, rescind the moratorium on coal mining on US federal lands and urge federal agencies to \"identify all regulations, all rules, all policies ... that serve as obstacles and impediments to American energy independence,\" the official said.It also goes directly after Obama's record, repealing at least six Obama-era executive orders aimed at addressing global warming, including a series of orders that instructed the federal government to prepare for the impacts of climate change.Can Trump actually do all this?It's unclear. Many of these moves will certainly end up in court.Experts said Tuesday that getting rid of the Clean Power Plan, the 2014 plan that put a limit to the amount of carbon dioxide produced by a range of power plants, will be far harder than just signing a document.\"The executive order does not make the Clean Power (Plan) go away,\" said Richard Revesz, Director of the Institute for Policy Integrity at NYU School of Law. \"This is the first move of a long chess game that will take years to unfold, and future moves will be far more challenging.\"Revesz added that the executive order \"has no legal significance at all\" because it will be part of a process that has \"many significant hurdles built in.\"The executive order will be challenged legally because it undermines the Supreme Court's Massachusetts vs. EPA decision, which ruled that the government has a duty to limit climate pollution under the Clean Air Act assuming an endangerment finding, which was issued in 2009, upheld by the Supreme Court in 2012, and served as the basis of the carbon pollution limits for new and existing power plants,\" the National Wildlife Federation said on Tuesday.Didn't Obama also run into legal hurdles?Yes.The Clean Power Plan went to court after Obama unveiled it in 2015. Opponents argue that the EPA went too far under the law to push the rule, while advocates say the agency has the authority to regulate carbon emissions.The Supreme Court delayed implantation of the rule in February 2016. Since then, a panel of the US Appeals Court for the District of Columbia Circuit heard oral arguments on the merits of the rule, but has yet to weigh in. What happens with the Paris Climate agreement?That is to be determined.A White House official told reporters that he would not comment -- good or bad -- on Paris because the Trump administration is still determining whether to withdraw from the landmark climate deal that was struck in 2016.Trump promised throughout the 2016 campaign that he would pull out of the Paris deal, but the fact he has yet to do some is left some environmental advocates hopeful that he may remain in the agreement.RELATED: The Paris Agreement is bigger than Trump ... isn't it?Even so, if the changes Trump is proposing go through, it will be difficult for the United States to comply with the requirements outlined in the agreement.How have environmental advocates reacted?With a mix of horror and resolve.Most understand that Trump's order will go to court, and a number have questioned whether Trump will even be able to implement his order. But what Trump has made clear with the order is that he plans to do a 180-degree turn when it comes to climate change.\"On the heels of the three hottest years on record, President Trump is reversing the biggest steps our country has taken (toward) fighting climate change,\" League of Conservation Voters President Gene Karpinski said in a statement. \"Rolling back these public health protections shows Trump cares more about big polluters than the well-being of our communities.\"Christiana Figueres, former executive secretary of the United Nations Framework Convention on Climate Change, said Trump's executive order \"will make things harder, not easier for Americans.\"Can coal jobs really come back?Trump made this a key promise during his 2016 campaign especially during primaries in states with a number of coal jobs, and in Ohio and Pennsylvania during the general election.But it is unlikely that Trump will actually be able to deliver on that promise, due in large part to market forces. The dramatic increase in natural gas production over the past decade, and associated falling prices, means it may not be economical for a coal comeback.Robert Murray, founder and chief executive of Murray Energy, told CNN in January that he asked Trump during a meeting to \"temper\" his coal promises.Murray said that coal employment \"can't be brought back to where it was before the election of Barack Obama.\"Trump's executive order would, however, move to make it easier to mine coal by rescinding the moratorium on coal mining on US federal lands and opening the door to fewer restrictions on carbon emissions produced by power plants.Doesn't this come as worldwide temperatures are rising?Yes. The World Meteorological Organization, the National Oceanic and Atmospheric Administration and NASA found that 2016 was the warmest year on record, and the third consecutive year to rank hotter than all previous years.This, climate scientists say, can only be explained by one thing: Man-made greenhouse gas emissions. \n"
     ]
    }
   ],
   "source": [
    "text = ''\n",
    "for i in bodies :\n",
    "    text+=i.getText()\n",
    "print(text)"
   ]
  },
  {
   "cell_type": "code",
   "execution_count": 33,
   "metadata": {
    "collapsed": true
   },
   "outputs": [],
   "source": [
    "# 소문자로 변경\n",
    "text = text.lower()"
   ]
  },
  {
   "cell_type": "code",
   "execution_count": 38,
   "metadata": {
    "collapsed": false,
    "scrolled": true
   },
   "outputs": [
    {
     "name": "stdout",
     "output_type": "stream",
     "text": [
      "1279\n",
      "['but', 'the', 'executive', 'order', ',', 'while', 'sweeping', ',', 'does', 'not', 'do', 'everything', 'the', 'trump', 'administration', 'thinks', '.', 'it', 'is', 'unlikely', 'to', 'bring', 'a', 'restoration', 'of', 'the', 'coal', 'industry', ',', 'is', 'certain', 'to', 'be', 'caught', 'up', 'in', 'court', 'for', 'years', ',', 'and', 'on', 'its', 'own', ',', 'does', \"n't\", 'pull', 'the', 'us', 'out', 'of', 'the', 'paris', 'accords.here', 'is', 'a', 'breakdown', 'of', 'what', 'trump', \"'s\", 'executive', 'order', 'accomplishes', 'and', 'what', 'it', 'does', \"n't\", ':', 'what', 'does', 'trump', 'hope', 'to', 'achieve', '?', 'donald', 'trump', \"'s\", 'executive', 'order', 'on', 'climate', 'change', ',', 'his', 'advisers', 'say', ',', 'is', 'the', 'president', \"'s\", 'attempt', 'to', 'put', 'american', 'jobs', 'first.related', ':', 'trump', 'move', 'to', 'roll', 'back', 'climate', 'rules', 'wo', \"n't\", 'bring', 'back', 'coal', 'or', 'mining', 'jobs', \"''\", 'it', 'is', 'an', 'issue', 'that', 'deserves', 'attention', ',', \"''\", 'an', 'official', 'said', 'monday', 'of', 'climate', 'change', '.', '``', 'but', 'i', 'think', 'the', 'president', 'has', 'been', 'very', 'clear', 'that', 'he', 'is', 'not', 'going', 'to', 'pursue', 'climate', 'change', 'policies', 'that', 'put', 'the', 'us', 'economy', 'at', 'risk', '.', 'it', 'is', 'very', 'simple', '.', '``', 'trump', 'has', 'long', 'been', 'a', 'critic', 'of', 'climate', 'change', 'policies', ',', 'even', 'going', 'so', 'far', 'to', 'call', 'climate', 'change', 'a', '``', 'hoax', \"''\", 'perpetrated', 'by', 'the', 'chinese', '.', 'white', 'house', 'press', 'secretary', 'sean', 'spicer', 'would', 'not', 'say', 'tuesday', 'whether', 'trump', 'still', 'believes', 'climate', 'change', 'is', 'a', 'hoax', '.', '``', 'he', 'does', 'not', 'believe', ',', 'as', 'i', 'mentioned', 'at', 'the', 'outset', ',', 'that', 'there', 'is', 'a', 'binary', 'choice', 'between', 'job', 'creation', ',', 'economic', 'growth', 'and', 'caring', 'about', 'the', 'environment', ',', \"''\", 'spicer', 'said', '.', '``', 'that', \"'s\", 'what', 'we', 'should', 'be', 'focusing', 'on', '.', '``', 'epa', 'administrator', 'scott', 'pruitt', ',', 'who', 'sued', 'the', 'epa', 'routinely', 'as', 'oklahoma', 'attorney', 'general', ',', 'argued', 'incorrectly', 'earlier', 'this', 'month', 'that', 'carbon', 'dioxide', 'is', \"n't\", 'the', '``', 'primary', 'contributor', \"''\", 'to', 'climate', 'change', ',', 'a', 'comment', 'that', 'goes', 'against', 'most', 'scientific', 'research.what', 'is', 'he', 'actually', 'reversing', '?', 'trump', \"'s\", 'executive', 'order', 'takes', 'a', 'hammer', 'to', 'the', 'moves', 'president', 'barack', 'obama', 'took', 'to', 'combat', 'climate', 'change.it', 'directs', 'epa', 'to', 'review', 'obama', \"'s\", 'clean', 'power', 'plan', ',', 'rescind', 'the', 'moratorium', 'on', 'coal', 'mining', 'on', 'us', 'federal', 'lands', 'and', 'urge', 'federal', 'agencies', 'to', '``', 'identify', 'all', 'regulations', ',', 'all', 'rules', ',', 'all', 'policies', '...', 'that', 'serve', 'as', 'obstacles', 'and', 'impediments', 'to', 'american', 'energy', 'independence', ',', \"''\", 'the', 'official', 'said.it', 'also', 'goes', 'directly', 'after', 'obama', \"'s\", 'record', ',', 'repealing', 'at', 'least', 'six', 'obama-era', 'executive', 'orders', 'aimed', 'at', 'addressing', 'global', 'warming', ',', 'including', 'a', 'series', 'of', 'orders', 'that', 'instructed', 'the', 'federal', 'government', 'to', 'prepare', 'for', 'the', 'impacts', 'of', 'climate', 'change.can', 'trump', 'actually', 'do', 'all', 'this', '?', 'it', \"'s\", 'unclear', '.', 'many', 'of', 'these', 'moves', 'will', 'certainly', 'end', 'up', 'in', 'court.experts', 'said', 'tuesday', 'that', 'getting', 'rid', 'of', 'the', 'clean', 'power', 'plan', ',', 'the', '2014', 'plan', 'that', 'put', 'a', 'limit', 'to', 'the', 'amount', 'of', 'carbon', 'dioxide', 'produced', 'by', 'a', 'range', 'of', 'power', 'plants', ',', 'will', 'be', 'far', 'harder', 'than', 'just', 'signing', 'a', 'document', '.', '``', 'the', 'executive', 'order', 'does', 'not', 'make', 'the', 'clean', 'power', '(', 'plan', ')', 'go', 'away', ',', \"''\", 'said', 'richard', 'revesz', ',', 'director', 'of', 'the', 'institute', 'for', 'policy', 'integrity', 'at', 'nyu', 'school', 'of', 'law', '.', '``', 'this', 'is', 'the', 'first', 'move', 'of', 'a', 'long', 'chess', 'game', 'that', 'will', 'take', 'years', 'to', 'unfold', ',', 'and', 'future', 'moves', 'will', 'be', 'far', 'more', 'challenging', '.', '``', 'revesz', 'added', 'that', 'the', 'executive', 'order', '``', 'has', 'no', 'legal', 'significance', 'at', 'all', \"''\", 'because', 'it', 'will', 'be', 'part', 'of', 'a', 'process', 'that', 'has', '``', 'many', 'significant', 'hurdles', 'built', 'in', '.', '``', 'the', 'executive', 'order', 'will', 'be', 'challenged', 'legally', 'because', 'it', 'undermines', 'the', 'supreme', 'court', \"'s\", 'massachusetts', 'vs.', 'epa', 'decision', ',', 'which', 'ruled', 'that', 'the', 'government', 'has', 'a', 'duty', 'to', 'limit', 'climate', 'pollution', 'under', 'the', 'clean', 'air', 'act', 'assuming', 'an', 'endangerment', 'finding', ',', 'which', 'was', 'issued', 'in', '2009', ',', 'upheld', 'by', 'the', 'supreme', 'court', 'in', '2012', ',', 'and', 'served', 'as', 'the', 'basis', 'of', 'the', 'carbon', 'pollution', 'limits', 'for', 'new', 'and', 'existing', 'power', 'plants', ',', \"''\", 'the', 'national', 'wildlife', 'federation', 'said', 'on', 'tuesday.did', \"n't\", 'obama', 'also', 'run', 'into', 'legal', 'hurdles', '?', 'yes.the', 'clean', 'power', 'plan', 'went', 'to', 'court', 'after', 'obama', 'unveiled', 'it', 'in', '2015.', 'opponents', 'argue', 'that', 'the', 'epa', 'went', 'too', 'far', 'under', 'the', 'law', 'to', 'push', 'the', 'rule', ',', 'while', 'advocates', 'say', 'the', 'agency', 'has', 'the', 'authority', 'to', 'regulate', 'carbon', 'emissions.the', 'supreme', 'court', 'delayed', 'implantation', 'of', 'the', 'rule', 'in', 'february', '2016.', 'since', 'then', ',', 'a', 'panel', 'of', 'the', 'us', 'appeals', 'court', 'for', 'the', 'district', 'of', 'columbia', 'circuit', 'heard', 'oral', 'arguments', 'on', 'the', 'merits', 'of', 'the', 'rule', ',', 'but', 'has', 'yet', 'to', 'weigh', 'in', '.', 'what', 'happens', 'with', 'the', 'paris', 'climate', 'agreement', '?', 'that', 'is', 'to', 'be', 'determined.a', 'white', 'house', 'official', 'told', 'reporters', 'that', 'he', 'would', 'not', 'comment', '--', 'good', 'or', 'bad', '--', 'on', 'paris', 'because', 'the', 'trump', 'administration', 'is', 'still', 'determining', 'whether', 'to', 'withdraw', 'from', 'the', 'landmark', 'climate', 'deal', 'that', 'was', 'struck', 'in', '2016.trump', 'promised', 'throughout', 'the', '2016', 'campaign', 'that', 'he', 'would', 'pull', 'out', 'of', 'the', 'paris', 'deal', ',', 'but', 'the', 'fact', 'he', 'has', 'yet', 'to', 'do', 'some', 'is', 'left', 'some', 'environmental', 'advocates', 'hopeful', 'that', 'he', 'may', 'remain', 'in', 'the', 'agreement.related', ':', 'the', 'paris', 'agreement', 'is', 'bigger', 'than', 'trump', '...', 'is', \"n't\", 'it', '?', 'even', 'so', ',', 'if', 'the', 'changes', 'trump', 'is', 'proposing', 'go', 'through', ',', 'it', 'will', 'be', 'difficult', 'for', 'the', 'united', 'states', 'to', 'comply', 'with', 'the', 'requirements', 'outlined', 'in', 'the', 'agreement.how', 'have', 'environmental', 'advocates', 'reacted', '?', 'with', 'a', 'mix', 'of', 'horror', 'and', 'resolve.most', 'understand', 'that', 'trump', \"'s\", 'order', 'will', 'go', 'to', 'court', ',', 'and', 'a', 'number', 'have', 'questioned', 'whether', 'trump', 'will', 'even', 'be', 'able', 'to', 'implement', 'his', 'order', '.', 'but', 'what', 'trump', 'has', 'made', 'clear', 'with', 'the', 'order', 'is', 'that', 'he', 'plans', 'to', 'do', 'a', '180-degree', 'turn', 'when', 'it', 'comes', 'to', 'climate', 'change', '.', '``', 'on', 'the', 'heels', 'of', 'the', 'three', 'hottest', 'years', 'on', 'record', ',', 'president', 'trump', 'is', 'reversing', 'the', 'biggest', 'steps', 'our', 'country', 'has', 'taken', '(', 'toward', ')', 'fighting', 'climate', 'change', ',', \"''\", 'league', 'of', 'conservation', 'voters', 'president', 'gene', 'karpinski', 'said', 'in', 'a', 'statement', '.', '``', 'rolling', 'back', 'these', 'public', 'health', 'protections', 'shows', 'trump', 'cares', 'more', 'about', 'big', 'polluters', 'than', 'the', 'well-being', 'of', 'our', 'communities', '.', '``', 'christiana', 'figueres', ',', 'former', 'executive', 'secretary', 'of', 'the', 'united', 'nations', 'framework', 'convention', 'on', 'climate', 'change', ',', 'said', 'trump', \"'s\", 'executive', 'order', '``', 'will', 'make', 'things', 'harder', ',', 'not', 'easier', 'for', 'americans', '.', '``', 'can', 'coal', 'jobs', 'really', 'come', 'back', '?', 'trump', 'made', 'this', 'a', 'key', 'promise', 'during', 'his', '2016', 'campaign', 'especially', 'during', 'primaries', 'in', 'states', 'with', 'a', 'number', 'of', 'coal', 'jobs', ',', 'and', 'in', 'ohio', 'and', 'pennsylvania', 'during', 'the', 'general', 'election.but', 'it', 'is', 'unlikely', 'that', 'trump', 'will', 'actually', 'be', 'able', 'to', 'deliver', 'on', 'that', 'promise', ',', 'due', 'in', 'large', 'part', 'to', 'market', 'forces', '.', 'the', 'dramatic', 'increase', 'in', 'natural', 'gas', 'production', 'over', 'the', 'past', 'decade', ',', 'and', 'associated', 'falling', 'prices', ',', 'means', 'it', 'may', 'not', 'be', 'economical', 'for', 'a', 'coal', 'comeback.robert', 'murray', ',', 'founder', 'and', 'chief', 'executive', 'of', 'murray', 'energy', ',', 'told', 'cnn', 'in', 'january', 'that', 'he', 'asked', 'trump', 'during', 'a', 'meeting', 'to', '``', 'temper', \"''\", 'his', 'coal', 'promises.murray', 'said', 'that', 'coal', 'employment', '``', 'ca', \"n't\", 'be', 'brought', 'back', 'to', 'where', 'it', 'was', 'before', 'the', 'election', 'of', 'barack', 'obama', '.', '``', 'trump', \"'s\", 'executive', 'order', 'would', ',', 'however', ',', 'move', 'to', 'make', 'it', 'easier', 'to', 'mine', 'coal', 'by', 'rescinding', 'the', 'moratorium', 'on', 'coal', 'mining', 'on', 'us', 'federal', 'lands', 'and', 'opening', 'the', 'door', 'to', 'fewer', 'restrictions', 'on', 'carbon', 'emissions', 'produced', 'by', 'power', 'plants.does', \"n't\", 'this', 'come', 'as', 'worldwide', 'temperatures', 'are', 'rising', '?', 'yes', '.', 'the', 'world', 'meteorological', 'organization', ',', 'the', 'national', 'oceanic', 'and', 'atmospheric', 'administration', 'and', 'nasa', 'found', 'that', '2016', 'was', 'the', 'warmest', 'year', 'on', 'record', ',', 'and', 'the', 'third', 'consecutive', 'year', 'to', 'rank', 'hotter', 'than', 'all', 'previous', 'years.this', ',', 'climate', 'scientists', 'say', ',', 'can', 'only', 'be', 'explained', 'by', 'one', 'thing', ':', 'man-made', 'greenhouse', 'gas', 'emissions', '.']\n"
     ]
    }
   ],
   "source": [
    "# tokenize\n",
    "tokens = nltk.word_tokenize(text) ;print(len(tokens)); print(tokens)"
   ]
  },
  {
   "cell_type": "code",
   "execution_count": 41,
   "metadata": {
    "collapsed": false
   },
   "outputs": [
    {
     "name": "stdout",
     "output_type": "stream",
     "text": [
      "153\n",
      "['i', 'me', 'my', 'myself', 'we', 'our', 'ours', 'ourselves', 'you', 'your', 'yours', 'yourself', 'yourselves', 'he', 'him', 'his', 'himself', 'she', 'her', 'hers', 'herself', 'it', 'its', 'itself', 'they', 'them', 'their', 'theirs', 'themselves', 'what', 'which', 'who', 'whom', 'this', 'that', 'these', 'those', 'am', 'is', 'are', 'was', 'were', 'be', 'been', 'being', 'have', 'has', 'had', 'having', 'do', 'does', 'did', 'doing', 'a', 'an', 'the', 'and', 'but', 'if', 'or', 'because', 'as', 'until', 'while', 'of', 'at', 'by', 'for', 'with', 'about', 'against', 'between', 'into', 'through', 'during', 'before', 'after', 'above', 'below', 'to', 'from', 'up', 'down', 'in', 'out', 'on', 'off', 'over', 'under', 'again', 'further', 'then', 'once', 'here', 'there', 'when', 'where', 'why', 'how', 'all', 'any', 'both', 'each', 'few', 'more', 'most', 'other', 'some', 'such', 'no', 'nor', 'not', 'only', 'own', 'same', 'so', 'than', 'too', 'very', 's', 't', 'can', 'will', 'just', 'don', 'should', 'now', 'd', 'll', 'm', 'o', 're', 've', 'y', 'ain', 'aren', 'couldn', 'didn', 'doesn', 'hadn', 'hasn', 'haven', 'isn', 'ma', 'mightn', 'mustn', 'needn', 'shan', 'shouldn', 'wasn', 'weren', 'won', 'wouldn']\n"
     ]
    }
   ],
   "source": [
    "# stopwords list 불러오기 nltk 제공\n",
    "stpwrds = nltk.corpus.stopwords.words('english') ; print(len(stpwrds)); print(stpwrds)"
   ]
  },
  {
   "cell_type": "code",
   "execution_count": 42,
   "metadata": {
    "collapsed": false,
    "scrolled": true
   },
   "outputs": [
    {
     "name": "stdout",
     "output_type": "stream",
     "text": [
      "808\n",
      "['executive', 'order', ',', 'sweeping', ',', 'everything', 'trump', 'administration', 'thinks', '.', 'unlikely', 'bring', 'restoration', 'coal', 'industry', ',', 'certain', 'caught', 'court', 'years', ',', ',', \"n't\", 'pull', 'us', 'paris', 'accords.here', 'breakdown', 'trump', \"'s\", 'executive', 'order', 'accomplishes', \"n't\", ':', 'trump', 'hope', 'achieve', '?', 'donald', 'trump', \"'s\", 'executive', 'order', 'climate', 'change', ',', 'advisers', 'say', ',', 'president', \"'s\", 'attempt', 'put', 'american', 'jobs', 'first.related', ':', 'trump', 'move', 'roll', 'back', 'climate', 'rules', 'wo', \"n't\", 'bring', 'back', 'coal', 'mining', 'jobs', \"''\", 'issue', 'deserves', 'attention', ',', \"''\", 'official', 'said', 'monday', 'climate', 'change', '.', '``', 'think', 'president', 'clear', 'going', 'pursue', 'climate', 'change', 'policies', 'put', 'us', 'economy', 'risk', '.', 'simple', '.', '``', 'trump', 'long', 'critic', 'climate', 'change', 'policies', ',', 'even', 'going', 'far', 'call', 'climate', 'change', '``', 'hoax', \"''\", 'perpetrated', 'chinese', '.', 'white', 'house', 'press', 'secretary', 'sean', 'spicer', 'would', 'say', 'tuesday', 'whether', 'trump', 'still', 'believes', 'climate', 'change', 'hoax', '.', '``', 'believe', ',', 'mentioned', 'outset', ',', 'binary', 'choice', 'job', 'creation', ',', 'economic', 'growth', 'caring', 'environment', ',', \"''\", 'spicer', 'said', '.', '``', \"'s\", 'focusing', '.', '``', 'epa', 'administrator', 'scott', 'pruitt', ',', 'sued', 'epa', 'routinely', 'oklahoma', 'attorney', 'general', ',', 'argued', 'incorrectly', 'earlier', 'month', 'carbon', 'dioxide', \"n't\", '``', 'primary', 'contributor', \"''\", 'climate', 'change', ',', 'comment', 'goes', 'scientific', 'research.what', 'actually', 'reversing', '?', 'trump', \"'s\", 'executive', 'order', 'takes', 'hammer', 'moves', 'president', 'barack', 'obama', 'took', 'combat', 'climate', 'change.it', 'directs', 'epa', 'review', 'obama', \"'s\", 'clean', 'power', 'plan', ',', 'rescind', 'moratorium', 'coal', 'mining', 'us', 'federal', 'lands', 'urge', 'federal', 'agencies', '``', 'identify', 'regulations', ',', 'rules', ',', 'policies', '...', 'serve', 'obstacles', 'impediments', 'american', 'energy', 'independence', ',', \"''\", 'official', 'said.it', 'also', 'goes', 'directly', 'obama', \"'s\", 'record', ',', 'repealing', 'least', 'six', 'obama-era', 'executive', 'orders', 'aimed', 'addressing', 'global', 'warming', ',', 'including', 'series', 'orders', 'instructed', 'federal', 'government', 'prepare', 'impacts', 'climate', 'change.can', 'trump', 'actually', '?', \"'s\", 'unclear', '.', 'many', 'moves', 'certainly', 'end', 'court.experts', 'said', 'tuesday', 'getting', 'rid', 'clean', 'power', 'plan', ',', '2014', 'plan', 'put', 'limit', 'amount', 'carbon', 'dioxide', 'produced', 'range', 'power', 'plants', ',', 'far', 'harder', 'signing', 'document', '.', '``', 'executive', 'order', 'make', 'clean', 'power', '(', 'plan', ')', 'go', 'away', ',', \"''\", 'said', 'richard', 'revesz', ',', 'director', 'institute', 'policy', 'integrity', 'nyu', 'school', 'law', '.', '``', 'first', 'move', 'long', 'chess', 'game', 'take', 'years', 'unfold', ',', 'future', 'moves', 'far', 'challenging', '.', '``', 'revesz', 'added', 'executive', 'order', '``', 'legal', 'significance', \"''\", 'part', 'process', '``', 'many', 'significant', 'hurdles', 'built', '.', '``', 'executive', 'order', 'challenged', 'legally', 'undermines', 'supreme', 'court', \"'s\", 'massachusetts', 'vs.', 'epa', 'decision', ',', 'ruled', 'government', 'duty', 'limit', 'climate', 'pollution', 'clean', 'air', 'act', 'assuming', 'endangerment', 'finding', ',', 'issued', '2009', ',', 'upheld', 'supreme', 'court', '2012', ',', 'served', 'basis', 'carbon', 'pollution', 'limits', 'new', 'existing', 'power', 'plants', ',', \"''\", 'national', 'wildlife', 'federation', 'said', 'tuesday.did', \"n't\", 'obama', 'also', 'run', 'legal', 'hurdles', '?', 'yes.the', 'clean', 'power', 'plan', 'went', 'court', 'obama', 'unveiled', '2015.', 'opponents', 'argue', 'epa', 'went', 'far', 'law', 'push', 'rule', ',', 'advocates', 'say', 'agency', 'authority', 'regulate', 'carbon', 'emissions.the', 'supreme', 'court', 'delayed', 'implantation', 'rule', 'february', '2016.', 'since', ',', 'panel', 'us', 'appeals', 'court', 'district', 'columbia', 'circuit', 'heard', 'oral', 'arguments', 'merits', 'rule', ',', 'yet', 'weigh', '.', 'happens', 'paris', 'climate', 'agreement', '?', 'determined.a', 'white', 'house', 'official', 'told', 'reporters', 'would', 'comment', '--', 'good', 'bad', '--', 'paris', 'trump', 'administration', 'still', 'determining', 'whether', 'withdraw', 'landmark', 'climate', 'deal', 'struck', '2016.trump', 'promised', 'throughout', '2016', 'campaign', 'would', 'pull', 'paris', 'deal', ',', 'fact', 'yet', 'left', 'environmental', 'advocates', 'hopeful', 'may', 'remain', 'agreement.related', ':', 'paris', 'agreement', 'bigger', 'trump', '...', \"n't\", '?', 'even', ',', 'changes', 'trump', 'proposing', 'go', ',', 'difficult', 'united', 'states', 'comply', 'requirements', 'outlined', 'agreement.how', 'environmental', 'advocates', 'reacted', '?', 'mix', 'horror', 'resolve.most', 'understand', 'trump', \"'s\", 'order', 'go', 'court', ',', 'number', 'questioned', 'whether', 'trump', 'even', 'able', 'implement', 'order', '.', 'trump', 'made', 'clear', 'order', 'plans', '180-degree', 'turn', 'comes', 'climate', 'change', '.', '``', 'heels', 'three', 'hottest', 'years', 'record', ',', 'president', 'trump', 'reversing', 'biggest', 'steps', 'country', 'taken', '(', 'toward', ')', 'fighting', 'climate', 'change', ',', \"''\", 'league', 'conservation', 'voters', 'president', 'gene', 'karpinski', 'said', 'statement', '.', '``', 'rolling', 'back', 'public', 'health', 'protections', 'shows', 'trump', 'cares', 'big', 'polluters', 'well-being', 'communities', '.', '``', 'christiana', 'figueres', ',', 'former', 'executive', 'secretary', 'united', 'nations', 'framework', 'convention', 'climate', 'change', ',', 'said', 'trump', \"'s\", 'executive', 'order', '``', 'make', 'things', 'harder', ',', 'easier', 'americans', '.', '``', 'coal', 'jobs', 'really', 'come', 'back', '?', 'trump', 'made', 'key', 'promise', '2016', 'campaign', 'especially', 'primaries', 'states', 'number', 'coal', 'jobs', ',', 'ohio', 'pennsylvania', 'general', 'election.but', 'unlikely', 'trump', 'actually', 'able', 'deliver', 'promise', ',', 'due', 'large', 'part', 'market', 'forces', '.', 'dramatic', 'increase', 'natural', 'gas', 'production', 'past', 'decade', ',', 'associated', 'falling', 'prices', ',', 'means', 'may', 'economical', 'coal', 'comeback.robert', 'murray', ',', 'founder', 'chief', 'executive', 'murray', 'energy', ',', 'told', 'cnn', 'january', 'asked', 'trump', 'meeting', '``', 'temper', \"''\", 'coal', 'promises.murray', 'said', 'coal', 'employment', '``', 'ca', \"n't\", 'brought', 'back', 'election', 'barack', 'obama', '.', '``', 'trump', \"'s\", 'executive', 'order', 'would', ',', 'however', ',', 'move', 'make', 'easier', 'mine', 'coal', 'rescinding', 'moratorium', 'coal', 'mining', 'us', 'federal', 'lands', 'opening', 'door', 'fewer', 'restrictions', 'carbon', 'emissions', 'produced', 'power', 'plants.does', \"n't\", 'come', 'worldwide', 'temperatures', 'rising', '?', 'yes', '.', 'world', 'meteorological', 'organization', ',', 'national', 'oceanic', 'atmospheric', 'administration', 'nasa', 'found', '2016', 'warmest', 'year', 'record', ',', 'third', 'consecutive', 'year', 'rank', 'hotter', 'previous', 'years.this', ',', 'climate', 'scientists', 'say', ',', 'explained', 'one', 'thing', ':', 'man-made', 'greenhouse', 'gas', 'emissions', '.']\n"
     ]
    }
   ],
   "source": [
    "# 불러온 스탑워드 제거, 문장부호는 포함이 안된 것 명심할 것\n",
    "tokens = [i for i in tokens if i not in stpwrds] \n",
    "print(len(tokens)); print(tokens)"
   ]
  },
  {
   "cell_type": "code",
   "execution_count": 43,
   "metadata": {
    "collapsed": true
   },
   "outputs": [],
   "source": [
    "# stemming 작업 어미 정규화\n",
    "poter = nltk.stem.porter.PorterStemmer()"
   ]
  },
  {
   "cell_type": "code",
   "execution_count": 47,
   "metadata": {
    "collapsed": false,
    "scrolled": true
   },
   "outputs": [
    {
     "name": "stdout",
     "output_type": "stream",
     "text": [
      "['executive', 'order', ',', 'sweeping', ',', 'everything', 'trump', 'administration', 'thinks', '.', 'unlikely', 'bring', 'restoration', 'coal', 'industry', ',', 'certain', 'caught', 'court', 'years', ',', ',', \"n't\", 'pull', 'us', 'paris', 'accords.here', 'breakdown', 'trump', \"'s\", 'executive', 'order', 'accomplishes', \"n't\", ':', 'trump', 'hope', 'achieve', '?', 'donald', 'trump', \"'s\", 'executive', 'order', 'climate', 'change', ',', 'advisers', 'say', ',', 'president', \"'s\", 'attempt', 'put', 'american', 'jobs', 'first.related', ':', 'trump', 'move', 'roll', 'back', 'climate', 'rules', 'wo', \"n't\", 'bring', 'back', 'coal', 'mining', 'jobs', \"''\", 'issue', 'deserves', 'attention', ',', \"''\", 'official', 'said', 'monday', 'climate', 'change', '.', '``', 'think', 'president', 'clear', 'going', 'pursue', 'climate', 'change', 'policies', 'put', 'us', 'economy', 'risk', '.', 'simple', '.', '``', 'trump', 'long', 'critic', 'climate', 'change', 'policies', ',', 'even', 'going', 'far', 'call', 'climate', 'change', '``', 'hoax', \"''\", 'perpetrated', 'chinese', '.', 'white', 'house', 'press', 'secretary', 'sean', 'spicer', 'would', 'say', 'tuesday', 'whether', 'trump', 'still', 'believes', 'climate', 'change', 'hoax', '.', '``', 'believe', ',', 'mentioned', 'outset', ',', 'binary', 'choice', 'job', 'creation', ',', 'economic', 'growth', 'caring', 'environment', ',', \"''\", 'spicer', 'said', '.', '``', \"'s\", 'focusing', '.', '``', 'epa', 'administrator', 'scott', 'pruitt', ',', 'sued', 'epa', 'routinely', 'oklahoma', 'attorney', 'general', ',', 'argued', 'incorrectly', 'earlier', 'month', 'carbon', 'dioxide', \"n't\", '``', 'primary', 'contributor', \"''\", 'climate', 'change', ',', 'comment', 'goes', 'scientific', 'research.what', 'actually', 'reversing', '?', 'trump', \"'s\", 'executive', 'order', 'takes', 'hammer', 'moves', 'president', 'barack', 'obama', 'took', 'combat', 'climate', 'change.it', 'directs', 'epa', 'review', 'obama', \"'s\", 'clean', 'power', 'plan', ',', 'rescind', 'moratorium', 'coal', 'mining', 'us', 'federal', 'lands', 'urge', 'federal', 'agencies', '``', 'identify', 'regulations', ',', 'rules', ',', 'policies', '...', 'serve', 'obstacles', 'impediments', 'american', 'energy', 'independence', ',', \"''\", 'official', 'said.it', 'also', 'goes', 'directly', 'obama', \"'s\", 'record', ',', 'repealing', 'least', 'six', 'obama-era', 'executive', 'orders', 'aimed', 'addressing', 'global', 'warming', ',', 'including', 'series', 'orders', 'instructed', 'federal', 'government', 'prepare', 'impacts', 'climate', 'change.can', 'trump', 'actually', '?', \"'s\", 'unclear', '.', 'many', 'moves', 'certainly', 'end', 'court.experts', 'said', 'tuesday', 'getting', 'rid', 'clean', 'power', 'plan', ',', '2014', 'plan', 'put', 'limit', 'amount', 'carbon', 'dioxide', 'produced', 'range', 'power', 'plants', ',', 'far', 'harder', 'signing', 'document', '.', '``', 'executive', 'order', 'make', 'clean', 'power', '(', 'plan', ')', 'go', 'away', ',', \"''\", 'said', 'richard', 'revesz', ',', 'director', 'institute', 'policy', 'integrity', 'nyu', 'school', 'law', '.', '``', 'first', 'move', 'long', 'chess', 'game', 'take', 'years', 'unfold', ',', 'future', 'moves', 'far', 'challenging', '.', '``', 'revesz', 'added', 'executive', 'order', '``', 'legal', 'significance', \"''\", 'part', 'process', '``', 'many', 'significant', 'hurdles', 'built', '.', '``', 'executive', 'order', 'challenged', 'legally', 'undermines', 'supreme', 'court', \"'s\", 'massachusetts', 'vs.', 'epa', 'decision', ',', 'ruled', 'government', 'duty', 'limit', 'climate', 'pollution', 'clean', 'air', 'act', 'assuming', 'endangerment', 'finding', ',', 'issued', '2009', ',', 'upheld', 'supreme', 'court', '2012', ',', 'served', 'basis', 'carbon', 'pollution', 'limits', 'new', 'existing', 'power', 'plants', ',', \"''\", 'national', 'wildlife', 'federation', 'said', 'tuesday.did', \"n't\", 'obama', 'also', 'run', 'legal', 'hurdles', '?', 'yes.the', 'clean', 'power', 'plan', 'went', 'court', 'obama', 'unveiled', '2015.', 'opponents', 'argue', 'epa', 'went', 'far', 'law', 'push', 'rule', ',', 'advocates', 'say', 'agency', 'authority', 'regulate', 'carbon', 'emissions.the', 'supreme', 'court', 'delayed', 'implantation', 'rule', 'february', '2016.', 'since', ',', 'panel', 'us', 'appeals', 'court', 'district', 'columbia', 'circuit', 'heard', 'oral', 'arguments', 'merits', 'rule', ',', 'yet', 'weigh', '.', 'happens', 'paris', 'climate', 'agreement', '?', 'determined.a', 'white', 'house', 'official', 'told', 'reporters', 'would', 'comment', '--', 'good', 'bad', '--', 'paris', 'trump', 'administration', 'still', 'determining', 'whether', 'withdraw', 'landmark', 'climate', 'deal', 'struck', '2016.trump', 'promised', 'throughout', '2016', 'campaign', 'would', 'pull', 'paris', 'deal', ',', 'fact', 'yet', 'left', 'environmental', 'advocates', 'hopeful', 'may', 'remain', 'agreement.related', ':', 'paris', 'agreement', 'bigger', 'trump', '...', \"n't\", '?', 'even', ',', 'changes', 'trump', 'proposing', 'go', ',', 'difficult', 'united', 'states', 'comply', 'requirements', 'outlined', 'agreement.how', 'environmental', 'advocates', 'reacted', '?', 'mix', 'horror', 'resolve.most', 'understand', 'trump', \"'s\", 'order', 'go', 'court', ',', 'number', 'questioned', 'whether', 'trump', 'even', 'able', 'implement', 'order', '.', 'trump', 'made', 'clear', 'order', 'plans', '180-degree', 'turn', 'comes', 'climate', 'change', '.', '``', 'heels', 'three', 'hottest', 'years', 'record', ',', 'president', 'trump', 'reversing', 'biggest', 'steps', 'country', 'taken', '(', 'toward', ')', 'fighting', 'climate', 'change', ',', \"''\", 'league', 'conservation', 'voters', 'president', 'gene', 'karpinski', 'said', 'statement', '.', '``', 'rolling', 'back', 'public', 'health', 'protections', 'shows', 'trump', 'cares', 'big', 'polluters', 'well-being', 'communities', '.', '``', 'christiana', 'figueres', ',', 'former', 'executive', 'secretary', 'united', 'nations', 'framework', 'convention', 'climate', 'change', ',', 'said', 'trump', \"'s\", 'executive', 'order', '``', 'make', 'things', 'harder', ',', 'easier', 'americans', '.', '``', 'coal', 'jobs', 'really', 'come', 'back', '?', 'trump', 'made', 'key', 'promise', '2016', 'campaign', 'especially', 'primaries', 'states', 'number', 'coal', 'jobs', ',', 'ohio', 'pennsylvania', 'general', 'election.but', 'unlikely', 'trump', 'actually', 'able', 'deliver', 'promise', ',', 'due', 'large', 'part', 'market', 'forces', '.', 'dramatic', 'increase', 'natural', 'gas', 'production', 'past', 'decade', ',', 'associated', 'falling', 'prices', ',', 'means', 'may', 'economical', 'coal', 'comeback.robert', 'murray', ',', 'founder', 'chief', 'executive', 'murray', 'energy', ',', 'told', 'cnn', 'january', 'asked', 'trump', 'meeting', '``', 'temper', \"''\", 'coal', 'promises.murray', 'said', 'coal', 'employment', '``', 'ca', \"n't\", 'brought', 'back', 'election', 'barack', 'obama', '.', '``', 'trump', \"'s\", 'executive', 'order', 'would', ',', 'however', ',', 'move', 'make', 'easier', 'mine', 'coal', 'rescinding', 'moratorium', 'coal', 'mining', 'us', 'federal', 'lands', 'opening', 'door', 'fewer', 'restrictions', 'carbon', 'emissions', 'produced', 'power', 'plants.does', \"n't\", 'come', 'worldwide', 'temperatures', 'rising', '?', 'yes', '.', 'world', 'meteorological', 'organization', ',', 'national', 'oceanic', 'atmospheric', 'administration', 'nasa', 'found', '2016', 'warmest', 'year', 'record', ',', 'third', 'consecutive', 'year', 'rank', 'hotter', 'previous', 'years.this', ',', 'climate', 'scientists', 'say', ',', 'explained', 'one', 'thing', ':', 'man-made', 'greenhouse', 'gas', 'emissions', '.']\n"
     ]
    }
   ],
   "source": [
    "for i in tokens :\n",
    "    i = poter.stem(i)\n",
    "    \n",
    "print(tokens)"
   ]
  }
 ],
 "metadata": {
  "anaconda-cloud": {},
  "kernelspec": {
   "display_name": "Python [conda root]",
   "language": "python",
   "name": "conda-root-py"
  },
  "language_info": {
   "codemirror_mode": {
    "name": "ipython",
    "version": 3.0
   },
   "file_extension": ".py",
   "mimetype": "text/x-python",
   "name": "python",
   "nbconvert_exporter": "python",
   "pygments_lexer": "ipython3",
   "version": "3.5.2"
  }
 },
 "nbformat": 4,
 "nbformat_minor": 0
}