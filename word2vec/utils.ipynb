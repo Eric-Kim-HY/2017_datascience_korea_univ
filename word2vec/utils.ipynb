{
 "cells": [
  {
   "cell_type": "code",
   "execution_count": 1,
   "metadata": {
    "collapsed": false
   },
   "outputs": [
    {
     "name": "stdout",
     "output_type": "stream",
     "text": [
      "\n",
      "Training with alpha:0.5\n"
     ]
    }
   ],
   "source": [
    "import numpy as np\n",
    "\n",
    "class util :\n",
    "    def __init__(self):\n",
    "        pass\n",
    "\n",
    "    # cost functinon\n",
    "    def nce(self, sth):\n",
    "        return sth\n",
    "\n",
    "    def backprop(self, sth):\n",
    "        return sth\n",
    "\n",
    "    def neg_sample(self, nsample):\n",
    "        return\n",
    "    \n",
    "    ## update weight matrix\n",
    "    \n",
    "    alpha = 0.5\n",
    "    hiddenSize = 32\n",
    "    \n",
    "    # compute sigmoid nonlinearity\n",
    "    def sigmoid(x):\n",
    "        output = 1/(1+np.exp(-x))\n",
    "        return output\n",
    "    \n",
    "    # convert output of sigmoid function to its derivative\n",
    "    def sig2deriv(output):\n",
    "        return output*(1-output)\n",
    "    \n",
    "    # X = np.array(input vectors)\n",
    "    # y = np.array(output vector)\n",
    "    \n",
    "    print(\"\\nTraining with alpha:\"+str(alpha))\n",
    "    np.random.seed(1)\n",
    "    \n",
    "    # 평균값을 0으로 weight matrix 초기화\n",
    "    # col_len_X: input데이터의 길이\n",
    "    W_0 = 2*np.random.random((col_len_X, hiddenSize)) - 1\n",
    "    W_1 = 2*np.random.random((hiddenSize,1)) - 1\n",
    "    \n",
    "    train = 60000\n",
    "    for j in range(train):\n",
    "        \n",
    "        # forward propagation\n",
    "        layer_0 = X\n",
    "        layer_1 = sigmoid(np.dot(layer_0,W_0))\n",
    "        layer_2 = sigmoid(np.dot(later_1,W_1))\n",
    "        \n",
    "        # calculate error\n",
    "        layer_2_error = layer_2 - y\n",
    "        \n",
    "        if (j%10000) == 0:\n",
    "            print(str(j)+\"번 학습 후 Error:\"+str(np.mean(np.abs(layer_2_error))))\n",
    "        \n",
    "        \n",
    "    \n",
    "    \n",
    "    \n",
    "    \n",
    "    \n",
    "    \n",
    "    \n",
    "    \n",
    "    \n",
    "    \n",
    "    \n",
    "    \n",
    "    "
   ]
  },
  {
   "cell_type": "code",
   "execution_count": null,
   "metadata": {
    "collapsed": true
   },
   "outputs": [],
   "source": []
  }
 ],
 "metadata": {
  "kernelspec": {
   "display_name": "Python 3",
   "language": "python",
   "name": "python3"
  },
  "language_info": {
   "codemirror_mode": {
    "name": "ipython",
    "version": 3
   },
   "file_extension": ".py",
   "mimetype": "text/x-python",
   "name": "python",
   "nbconvert_exporter": "python",
   "pygments_lexer": "ipython3",
   "version": "3.6.0"
  }
 },
 "nbformat": 4,
 "nbformat_minor": 2
}
