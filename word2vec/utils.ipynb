{
 "cells": [
  {
   "cell_type": "code",
   "execution_count": 4,
   "metadata": {
    "collapsed": false
   },
   "outputs": [
    {
     "ename": "ModuleNotFoundError",
     "evalue": "No module named 'practice'",
     "traceback": [
      "\u001b[0;31m---------------------------------------------------------------------------\u001b[0m",
      "\u001b[0;31mModuleNotFoundError\u001b[0m                       Traceback (most recent call last)",
      "\u001b[0;32m<ipython-input-4-729b95e2cd1e>\u001b[0m in \u001b[0;36m<module>\u001b[0;34m()\u001b[0m\n\u001b[1;32m      1\u001b[0m \u001b[1;32mimport\u001b[0m \u001b[0mnumpy\u001b[0m \u001b[1;32mas\u001b[0m \u001b[0mnp\u001b[0m\u001b[1;33m\u001b[0m\u001b[0m\n\u001b[0;32m----> 2\u001b[0;31m \u001b[1;32mfrom\u001b[0m \u001b[0mpractice\u001b[0m\u001b[1;33m.\u001b[0m\u001b[0mipynb\u001b[0m \u001b[1;32mimport\u001b[0m \u001b[0mtokens\u001b[0m\u001b[1;33m\u001b[0m\u001b[0m\n\u001b[0m\u001b[1;32m      3\u001b[0m \u001b[1;33m\u001b[0m\u001b[0m\n\u001b[1;32m      4\u001b[0m \u001b[1;32mclass\u001b[0m \u001b[0mutil\u001b[0m \u001b[1;33m:\u001b[0m\u001b[1;33m\u001b[0m\u001b[0m\n\u001b[1;32m      5\u001b[0m \u001b[1;33m\u001b[0m\u001b[0m\n",
      "\u001b[0;31mModuleNotFoundError\u001b[0m: No module named 'practice'"
     ],
     "output_type": "error"
    }
   ],
   "source": [
    "import numpy as np\n",
    "\n",
    "class util :\n",
    "    \n",
    "    ## update weight matrix\n",
    "    \n",
    "    alpha = 0.5                # 적당한 값을 정한다\n",
    "    hiddenSize = 32\n",
    "    \n",
    "    '''\n",
    "    # compute sigmoid nonlinearity\n",
    "    def sigmoid(x):\n",
    "        output = 1/(1+np.exp(-x))\n",
    "        return output\n",
    "    \n",
    "    # convert output of sigmoid function to its derivative\n",
    "    def sig2deriv(output):\n",
    "        return output*(1-output)\n",
    "    '''\n",
    "    \n",
    "    # compute reLU\n",
    "    def relu(x):\n",
    "        return max(0,x)\n",
    "    \n",
    "    # X = np.array(input vectors)             # vector들로 이루어진 input 정의 \n",
    "    # y = np.array(output vector)             # 기대되는 결과\n",
    "    \n",
    "    np.random.seed(1)                         # 매 번 랜덤화 시키기\n",
    "    \n",
    "    # 평균값을 0으로 weight matrix 초기화\n",
    "    # col_len_X: input데이터의 길이\n",
    "    W_0 = 2*np.random.random((col_len_X, hiddenSize)) - 1            # 첫번째 weight matrix의 크기 == (X의 열) X (hiddenSize)\n",
    "    W_1 = 2*np.random.random((hiddenSize,1)) - 1                     # 두번째 weight matrix의 크기 == (hiddenSize) X (1)\n",
    "    \n",
    "    train = 60000           # 몇 번 train 할지 정한다\n",
    "    for j in range(train):\n",
    "        \n",
    "        # forward propagation\n",
    "        layer_0 = X                                    # 0번째 layer == input matrix\n",
    "        layer_1 = relu(np.dot(layer_0,W_0))            # 1번째 layer: layer0에 W_0 행렬곱\n",
    "        layer_2 = relu(np.dot(later_1,W_1))            # 2번째 layer: layer1에 W_1 행렬곱\n",
    "        \n",
    "        # softmax\n",
    "        denominator = 0\n",
    "        for value in layer_2:\n",
    "            denominator += np.exp(x)\n",
    "        \n",
    "        # calculate error\n",
    "        layer_2_error = layer_2 - y                    # error는 원래값(y)과의 차이\n",
    "        \n",
    "        if (j%10000) == 0:\n",
    "            print(str(j)+\"번 학습 후 error:\"+str(np.mean(np.abs(layer_2_error))))     # 10000번 학습할때마다 layer2 error 가 얼만큼 변하는지 보기\n",
    "        \n",
    "#       layer_2_delta = layer_2_error*sig2deriv(layer_2)         # reLU를 사용하면 오른쪽에 곱해지는 값이 항상 1\n",
    "        \n",
    "#       layer_1_error = layer_2_delta.dot(W_1.T)\n",
    "        layer_1_error = layer_2_error.dot(W_1.T)                 # reLU의 미분값은 양의 값에서 항상 1 이므로 'delta = error'\n",
    "        \n",
    "#       layer_1_delta = layer_1_error*sig2deriv(layer_1)\n",
    "        \n",
    "        # update weight matrix\n",
    "        W_1 -= alpha*(layer_1.T.dot(layer_2_error))\n",
    "        W_0 -= alpha*(layer_0.T.dot(layer_1_error))"
   ]
  },
  {
   "cell_type": "code",
   "execution_count": null,
   "metadata": {
    "collapsed": true
   },
   "outputs": [],
   "source": [
    ""
   ]
  }
 ],
 "metadata": {
  "kernelspec": {
   "display_name": "Python 3",
   "language": "python",
   "name": "python3"
  },
  "language_info": {
   "codemirror_mode": {
    "name": "ipython",
    "version": 3.0
   },
   "file_extension": ".py",
   "mimetype": "text/x-python",
   "name": "python",
   "nbconvert_exporter": "python",
   "pygments_lexer": "ipython3",
   "version": "3.6.0"
  }
 },
 "nbformat": 4,
 "nbformat_minor": 0
}