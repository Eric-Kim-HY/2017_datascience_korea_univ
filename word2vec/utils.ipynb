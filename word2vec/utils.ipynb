{
 "cells": [
  {
   "cell_type": "code",
   "execution_count": 3,
   "metadata": {
    "collapsed": false
   },
   "outputs": [
    {
     "name": "stdout",
     "output_type": "stream",
     "text": [
      "\n",
      "Training with alpha:0.5\n"
     ]
    },
    {
     "ename": "NameError",
     "evalue": "name 'col_len_X' is not defined",
     "output_type": "error",
     "traceback": [
      "\u001b[0;31m---------------------------------------------------------------------------\u001b[0m",
      "\u001b[0;31mNameError\u001b[0m                                 Traceback (most recent call last)",
      "\u001b[0;32m<ipython-input-3-a3a092cf77be>\u001b[0m in \u001b[0;36m<module>\u001b[0;34m()\u001b[0m\n\u001b[1;32m      1\u001b[0m \u001b[1;32mimport\u001b[0m \u001b[0mnumpy\u001b[0m \u001b[1;32mas\u001b[0m \u001b[0mnp\u001b[0m\u001b[1;33m\u001b[0m\u001b[0m\n\u001b[1;32m      2\u001b[0m \u001b[1;33m\u001b[0m\u001b[0m\n\u001b[0;32m----> 3\u001b[0;31m \u001b[1;32mclass\u001b[0m \u001b[0mutil\u001b[0m \u001b[1;33m:\u001b[0m\u001b[1;33m\u001b[0m\u001b[0m\n\u001b[0m\u001b[1;32m      4\u001b[0m     \u001b[1;32mdef\u001b[0m \u001b[0m__init__\u001b[0m\u001b[1;33m(\u001b[0m\u001b[0mself\u001b[0m\u001b[1;33m)\u001b[0m\u001b[1;33m:\u001b[0m\u001b[1;33m\u001b[0m\u001b[0m\n\u001b[1;32m      5\u001b[0m         \u001b[1;32mpass\u001b[0m\u001b[1;33m\u001b[0m\u001b[0m\n",
      "\u001b[0;32m<ipython-input-3-a3a092cf77be>\u001b[0m in \u001b[0;36mutil\u001b[0;34m()\u001b[0m\n\u001b[1;32m     37\u001b[0m     \u001b[1;31m# 평균값을 0으로 weight matrix 초기화\u001b[0m\u001b[1;33m\u001b[0m\u001b[1;33m\u001b[0m\u001b[0m\n\u001b[1;32m     38\u001b[0m     \u001b[1;31m# col_len_X: input데이터의 길이\u001b[0m\u001b[1;33m\u001b[0m\u001b[1;33m\u001b[0m\u001b[0m\n\u001b[0;32m---> 39\u001b[0;31m     \u001b[0mW_0\u001b[0m \u001b[1;33m=\u001b[0m \u001b[1;36m2\u001b[0m\u001b[1;33m*\u001b[0m\u001b[0mnp\u001b[0m\u001b[1;33m.\u001b[0m\u001b[0mrandom\u001b[0m\u001b[1;33m.\u001b[0m\u001b[0mrandom\u001b[0m\u001b[1;33m(\u001b[0m\u001b[1;33m(\u001b[0m\u001b[0mcol_len_X\u001b[0m\u001b[1;33m,\u001b[0m \u001b[0mhiddenSize\u001b[0m\u001b[1;33m)\u001b[0m\u001b[1;33m)\u001b[0m \u001b[1;33m-\u001b[0m \u001b[1;36m1\u001b[0m\u001b[1;33m\u001b[0m\u001b[0m\n\u001b[0m\u001b[1;32m     40\u001b[0m     \u001b[0mW_1\u001b[0m \u001b[1;33m=\u001b[0m \u001b[1;36m2\u001b[0m\u001b[1;33m*\u001b[0m\u001b[0mnp\u001b[0m\u001b[1;33m.\u001b[0m\u001b[0mrandom\u001b[0m\u001b[1;33m.\u001b[0m\u001b[0mrandom\u001b[0m\u001b[1;33m(\u001b[0m\u001b[1;33m(\u001b[0m\u001b[0mhiddenSize\u001b[0m\u001b[1;33m,\u001b[0m\u001b[1;36m1\u001b[0m\u001b[1;33m)\u001b[0m\u001b[1;33m)\u001b[0m \u001b[1;33m-\u001b[0m \u001b[1;36m1\u001b[0m\u001b[1;33m\u001b[0m\u001b[0m\n\u001b[1;32m     41\u001b[0m \u001b[1;33m\u001b[0m\u001b[0m\n",
      "\u001b[0;31mNameError\u001b[0m: name 'col_len_X' is not defined"
     ]
    }
   ],
   "source": [
    "import numpy as np\n",
    "\n",
    "class util :\n",
    "    def __init__(self):\n",
    "        pass\n",
    "\n",
    "    # cost functinon\n",
    "    def nce(self, sth):\n",
    "        return sth\n",
    "\n",
    "    def backprop(self, sth):\n",
    "        return sth\n",
    "\n",
    "    def neg_sample(self, nsample):\n",
    "        return\n",
    "    \n",
    "    ## update weight matrix\n",
    "    \n",
    "    alpha = 0.5\n",
    "    hiddenSize = 32\n",
    "    \n",
    "    # compute sigmoid nonlinearity\n",
    "    def sigmoid(x):\n",
    "        output = 1/(1+np.exp(-x))\n",
    "        return output\n",
    "    \n",
    "    # convert output of sigmoid function to its derivative\n",
    "    def sig2deriv(output):\n",
    "        return output*(1-output)\n",
    "    \n",
    "    # X = np.array(input vectors)\n",
    "    # y = np.array(output vector)\n",
    "    \n",
    "    print(\"\\nTraining with alpha:\"+str(alpha))\n",
    "    np.random.seed(1)\n",
    "    \n",
    "    # 평균값을 0으로 weight matrix 초기화\n",
    "    # col_len_X: input데이터의 길이\n",
    "    W_0 = 2*np.random.random((col_len_X, hiddenSize)) - 1\n",
    "    W_1 = 2*np.random.random((hiddenSize,1)) - 1\n",
    "    \n",
    "    train = 60000\n",
    "    for j in range(train):\n",
    "        \n",
    "        # forward propagation\n",
    "        layer_0 = X\n",
    "        layer_1 = sigmoid(np.dot(layer_0,W_0))\n",
    "        layer_2 = sigmoid(np.dot(later_1,W_1))\n",
    "        \n",
    "        # calculate error\n",
    "        layer_2_error = layer_2 - y\n",
    "        \n",
    "        if (j%10000) == 0:\n",
    "            print(str(j)+\"번 학습 후 Error:\"+str(np.mean(np.abs(layer_2_error))))\n",
    "        \n",
    "        layer_2_delta = layer_2_error*sig2deriv(layer_2)\n",
    "        \n",
    "        layer_1_error = layer_2_delta.dot(W_1.T)\n",
    "        \n",
    "        layer_1_delta = layer_1_error*sig2deriv(layer_1)\n",
    "        \n",
    "        # update weight matrix\n",
    "        W_1 -= alpha*(layer_1.T.dot(layer_2_delta))\n",
    "        W_0 -= alpha*(layer_0.T.dot(layer_1_delta))\n",
    "  "
   ]
  },
  {
   "cell_type": "code",
   "execution_count": null,
   "metadata": {
    "collapsed": true
   },
   "outputs": [],
   "source": []
  }
 ],
 "metadata": {
  "kernelspec": {
   "display_name": "Python 3",
   "language": "python",
   "name": "python3"
  },
  "language_info": {
   "codemirror_mode": {
    "name": "ipython",
    "version": 3
   },
   "file_extension": ".py",
   "mimetype": "text/x-python",
   "name": "python",
   "nbconvert_exporter": "python",
   "pygments_lexer": "ipython3",
   "version": "3.6.0"
  }
 },
 "nbformat": 4,
 "nbformat_minor": 2
}
