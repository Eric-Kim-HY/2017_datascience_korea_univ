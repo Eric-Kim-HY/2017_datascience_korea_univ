{
 "cells": [
  {
   "cell_type": "code",
   "execution_count": 1,
   "metadata": {
    "collapsed": true
   },
   "outputs": [],
   "source": [
    "import numpy as np\n",
    "\n",
    "# sigmoid function\n",
    "def nonlin(x, deriv=False):\n",
    "    if(deriv==True):\n",
    "        return x*(1-x)\n",
    "    return 1/(1+np.exp(-x))\n",
    "\n",
    "# input dataset\n",
    "X = np.array([ [0,0,1],\n",
    "               [0,1,1],\n",
    "               [1,0,1],\n",
    "               [1,1,1,]])\n",
    "\n",
    "# output dataset\n",
    "y = np.array([[0,0,1,1]]).T\n",
    "\n",
    "# send random numbers to make calculation\n",
    "# deterministic\n",
    "np.random.seed(1)\n"
   ]
  },
  {
   "cell_type": "code",
   "execution_count": 2,
   "metadata": {
    "collapsed": true
   },
   "outputs": [],
   "source": [
    "# initialize weights randomly with mean 0\n",
    "syn0 = 2*np.random.random((3,1)) - 1\n",
    "\n",
    "for iter in range(10000):\n",
    "    \n",
    "    # forward propagation\n",
    "    l0 = X\n",
    "    l1 = nonlin(np.dot(l0,syn0))\n",
    "    \n",
    "    # how much did we miss?\n",
    "    l1_error = y - l1\n",
    "    \n",
    "    # multiply how much we missed by the\n",
    "    # slope of the sigmoid at the values in l1\n",
    "    l1_delta = l1_error * nonlin(l1, True)"
   ]
  },
  {
   "cell_type": "code",
   "execution_count": 3,
   "metadata": {
    "collapsed": true
   },
   "outputs": [],
   "source": [
    "    # update weights\n",
    "    syn0 += np.dot(l0.T, l1_delta)"
   ]
  },
  {
   "cell_type": "code",
   "execution_count": 5,
   "metadata": {
    "collapsed": false
   },
   "outputs": [
    {
     "name": "stdout",
     "output_type": "stream",
     "text": [
      "Output after training:\n",
      "[[ 0.2689864 ]\n",
      " [ 0.36375058]\n",
      " [ 0.23762817]\n",
      " [ 0.3262757 ]]\n"
     ]
    }
   ],
   "source": [
    "print(\"Output after training:\")\n",
    "print(l1)"
   ]
  },
  {
   "cell_type": "code",
   "execution_count": 6,
   "metadata": {
    "collapsed": false
   },
   "outputs": [
    {
     "name": "stdout",
     "output_type": "stream",
     "text": [
      "[[-0.2689864 ]\n",
      " [-0.36375058]\n",
      " [ 0.76237183]\n",
      " [ 0.6737243 ]]\n"
     ]
    }
   ],
   "source": [
    "print(l1_error)"
   ]
  },
  {
   "cell_type": "code",
   "execution_count": 1,
   "metadata": {
    "collapsed": false,
    "scrolled": true
   },
   "outputs": [
    {
     "ename": "NameError",
     "evalue": "name 'l1' is not defined",
     "output_type": "error",
     "traceback": [
      "\u001b[0;31m---------------------------------------------------------------------------\u001b[0m",
      "\u001b[0;31mNameError\u001b[0m                                 Traceback (most recent call last)",
      "\u001b[0;32m<ipython-input-1-86af7638f433>\u001b[0m in \u001b[0;36m<module>\u001b[0;34m()\u001b[0m\n\u001b[0;32m----> 1\u001b[0;31m \u001b[0mprint\u001b[0m\u001b[1;33m(\u001b[0m\u001b[0ml1\u001b[0m\u001b[1;33m)\u001b[0m\u001b[1;33m\u001b[0m\u001b[0m\n\u001b[0m",
      "\u001b[0;31mNameError\u001b[0m: name 'l1' is not defined"
     ]
    }
   ],
   "source": [
    "print(l1)"
   ]
  },
  {
   "cell_type": "code",
   "execution_count": 2,
   "metadata": {
    "collapsed": false
   },
   "outputs": [
    {
     "ename": "NameError",
     "evalue": "name 'l1_error' is not defined",
     "output_type": "error",
     "traceback": [
      "\u001b[0;31m---------------------------------------------------------------------------\u001b[0m",
      "\u001b[0;31mNameError\u001b[0m                                 Traceback (most recent call last)",
      "\u001b[0;32m<ipython-input-2-66fda50e66fb>\u001b[0m in \u001b[0;36m<module>\u001b[0;34m()\u001b[0m\n\u001b[0;32m----> 1\u001b[0;31m \u001b[0mprint\u001b[0m\u001b[1;33m(\u001b[0m\u001b[0ml1_error\u001b[0m\u001b[1;33m)\u001b[0m\u001b[1;33m\u001b[0m\u001b[0m\n\u001b[0m",
      "\u001b[0;31mNameError\u001b[0m: name 'l1_error' is not defined"
     ]
    }
   ],
   "source": [
    "print(l1_error)"
   ]
  },
  {
   "cell_type": "code",
   "execution_count": 5,
   "metadata": {
    "collapsed": false
   },
   "outputs": [],
   "source": [
    "## 3 Layer Neural Network\n",
    "\n",
    "import numpy as np\n",
    "\n",
    "def nonlin(x, deriv=False):\n",
    "    if(deriv==True):\n",
    "        return x*(1-x)\n",
    "    \n",
    "    return 1/(1+np.exp(-x))\n",
    "\n",
    "X = np.array([[0,0,1],\n",
    "              [0,1,1],\n",
    "              [1,0,1],\n",
    "              [1,1,1]])\n",
    "\n",
    "y = np.array([[0],\n",
    "             [1],\n",
    "             [1],\n",
    "             [0]])\n",
    "\n",
    "np.random.seed(1)"
   ]
  },
  {
   "cell_type": "code",
   "execution_count": 6,
   "metadata": {
    "collapsed": false
   },
   "outputs": [
    {
     "name": "stdout",
     "output_type": "stream",
     "text": [
      "Error:0.496410031903\n",
      "Error:0.00858452565325\n",
      "Error:0.00578945986251\n",
      "Error:0.00462917677677\n",
      "Error:0.00395876528027\n",
      "Error:0.00351012256786\n"
     ]
    }
   ],
   "source": [
    "# randomly initialize our weights with mean 0\n",
    "w0 = 2*np.random.random((3,4)) - 1\n",
    "w1 = 2*np.random.random((4,1)) - 1\n",
    "\n",
    "for j in range(60000):\n",
    "    \n",
    "    # Feed forward through layers 0, 1, and 2\n",
    "    l0 = X\n",
    "    l1 = nonlin(np.dot(l0,w0))\n",
    "    l2 = nonlin(np.dot(l1,w1))\n",
    "    \n",
    "    # how much did we miss the target value?\n",
    "    l2_error = y - l2\n",
    "    \n",
    "    if (j%10000) == 0:\n",
    "        print(\"Error:\" + str(np.mean(np.abs(l2_error))))\n",
    "        \n",
    "    # in what direction is the target value?\n",
    "    # were we really sure? if so, don't change too much.\n",
    "    l2_delta = l2_error*nonlin(l2,deriv=True)\n",
    "    \n",
    "    # how much did each l1 value contribute to the l2 error?\n",
    "    l1_error = l2_delta.dot(w1.T)\n",
    "    \n",
    "    # in what direction is the target l1?\n",
    "    # were we really sure? if so, don't change too much.\n",
    "    l1_delta = l1_error*nonlin(l1,deriv=True)\n",
    "    \n",
    "    w1 += l1.T.dot(l2_delta)\n",
    "    w0 += l0.T.dot(l1_delta)"
   ]
  },
  {
   "cell_type": "code",
   "execution_count": 7,
   "metadata": {
    "collapsed": false
   },
   "outputs": [
    {
     "name": "stdout",
     "output_type": "stream",
     "text": [
      "Output After Training:\n",
      "[[ 0.00505119]\n",
      " [ 0.00505119]\n",
      " [ 0.99494905]\n",
      " [ 0.99494905]]\n"
     ]
    }
   ],
   "source": [
    "## 2 Layer Neural Network\n",
    "\n",
    "import numpy as np\n",
    "\n",
    "# compute sigmoid nonlinearity\n",
    "def sigmoid(x):\n",
    "    output = 1/(1+np.exp(-x))\n",
    "    return output\n",
    "\n",
    "# convert output of sigmoid function to its derivative\n",
    "def sigmoid_output_to_derivative(output):\n",
    "    return output*(1-output)\n",
    "\n",
    "# input dataset\n",
    "X = np.array([ [0,1],\n",
    "               [0,1],\n",
    "               [1,0],\n",
    "               [1,0]])\n",
    "\n",
    "# output dataset\n",
    "y = np.array([[0,0,1,1]]).T\n",
    "\n",
    "# seed random numbers to make calculation deterministic\n",
    "np.random.seed(1)\n",
    "\n",
    "#initialize weights randomly with mean 0\n",
    "w_0 = 2*np.random.random((2,1)) - 1\n",
    "\n",
    "for iter in range(10000):\n",
    "    \n",
    "    # forward propagation\n",
    "    layer_0 = X\n",
    "    layer_1 = sigmoid(np.dot(layer_0,w_0))\n",
    "    \n",
    "    # how much did we miss?\n",
    "    layer_1_error = layer_1 - y\n",
    "    \n",
    "    # multiply how much we missed by the\n",
    "    # slope of the sigmoid at the values in layer_1\n",
    "    layer_1_delta = layer_1_error*sigmoid_output_to_derivative(layer_1)\n",
    "    w_0_derivative = np.dot(layer_0.T,layer_1_delta)\n",
    "    \n",
    "    # update weights\n",
    "    w_0 -= w_0_derivative\n",
    "    \n",
    "print(\"Output After Training:\")\n",
    "print(layer_1)"
   ]
  },
  {
   "cell_type": "code",
   "execution_count": 16,
   "metadata": {
    "collapsed": false
   },
   "outputs": [
    {
     "name": "stdout",
     "output_type": "stream",
     "text": [
      "\n",
      "Training With Alpha:0.001\n",
      "Error after 0 iterations:0.496439922501\n",
      "Error after 10000 iterations:0.496439549239\n",
      "Error after 20000 iterations:0.496439176498\n",
      "Error after 30000 iterations:0.496438804272\n",
      "Error after 40000 iterations:0.496438432555\n",
      "Error after 50000 iterations:0.496438061343\n",
      "\n",
      "Training With Alpha:0.01\n",
      "Error after 0 iterations:0.496439922501\n",
      "Error after 10000 iterations:0.496436225487\n",
      "Error after 20000 iterations:0.496432576986\n",
      "Error after 30000 iterations:0.496428971854\n",
      "Error after 40000 iterations:0.496425405213\n",
      "Error after 50000 iterations:0.49642187244\n",
      "\n",
      "Training With Alpha:0.1\n",
      "Error after 0 iterations:0.496439922501\n",
      "Error after 10000 iterations:0.496406521518\n",
      "Error after 20000 iterations:0.496374583283\n",
      "Error after 30000 iterations:0.496341057034\n",
      "Error after 40000 iterations:0.496304683652\n",
      "Error after 50000 iterations:0.496265188615\n",
      "\n",
      "Training With Alpha:1\n",
      "Error after 0 iterations:0.496439922501\n",
      "Error after 10000 iterations:0.496444262233\n",
      "Error after 20000 iterations:0.495577465937\n",
      "Error after 30000 iterations:0.495640330226\n",
      "Error after 40000 iterations:0.494938280415\n",
      "Error after 50000 iterations:0.494899023855\n",
      "\n",
      "Training With Alpha:10\n",
      "Error after 0 iterations:0.496439922501\n",
      "Error after 10000 iterations:0.499948919721\n",
      "Error after 20000 iterations:0.499939325285\n",
      "Error after 30000 iterations:0.499925410647\n",
      "Error after 40000 iterations:0.499903569418\n",
      "Error after 50000 iterations:0.499864941724\n",
      "\n",
      "Training With Alpha:100\n",
      "Error after 0 iterations:0.496439922501\n",
      "Error after 10000 iterations:0.5\n",
      "Error after 20000 iterations:0.5\n",
      "Error after 30000 iterations:0.5\n",
      "Error after 40000 iterations:0.5\n",
      "Error after 50000 iterations:0.5\n",
      "\n",
      "Training With Alpha:1000\n",
      "Error after 0 iterations:0.496439922501\n",
      "Error after 10000 iterations:0.5\n",
      "Error after 20000 iterations:0.5\n",
      "Error after 30000 iterations:0.5\n",
      "Error after 40000 iterations:0.5\n",
      "Error after 50000 iterations:0.5\n"
     ]
    }
   ],
   "source": [
    "## Gradient descent - parameterizing the size of the hidden layer\n",
    "\n",
    "import numpy as np\n",
    "\n",
    "alphas = [0.001,0.01,0.1,1,10,100,1000]\n",
    "hiddenSize = 32\n",
    "\n",
    "# compute sigmoid nonlinearity\n",
    "def sigmoid(x):\n",
    "    output = 1/(1+np.exp(-x))\n",
    "    return output\n",
    "\n",
    "# convert output of sigmoid function to its derivative\n",
    "def sigmoid_deriv(output):\n",
    "    return output*(1-output)\n",
    "\n",
    "X = np.array([[0,0,1],\n",
    "              [0,1,1],\n",
    "              [1,0,1],\n",
    "              [1,1,1]])\n",
    "\n",
    "y = np.array([[0],\n",
    "              [1],\n",
    "              [1],\n",
    "              [0]])\n",
    "\n",
    "for alpha in alphas:\n",
    "    print(\"\\nTraining With Alpha:\" + str(alpha))\n",
    "    np.random.seed(1)\n",
    "    \n",
    "    # randomly initialize our weights with mean 0\n",
    "    synapse_0 = 2*np.random.random((3,hiddenSize)) - 1\n",
    "    synapse_1 = 2*np.random.random((hiddenSize,1)) - 1\n",
    "    \n",
    "    for j in range(60000):\n",
    "        \n",
    "        # Feed forward through layers 0, 1, and 2\n",
    "        layer_0 = X\n",
    "        layer_1 = sigmoid(np.dot(layer_0,synapse_0))\n",
    "        layer_2 = sigmoid(np.dot(layer_1,synapse_1))\n",
    "        \n",
    "        # how much did we miss the target value?\n",
    "        layer_2_error = layer_2 - y\n",
    "        \n",
    "        if (j%10000) == 0:\n",
    "            print(\"Error after \"+str(j)+\" iterations:\"+\n",
    "                 str(np.mean(np.abs(layer_2_error))))\n",
    "            \n",
    "            # in what direction is the target value?\n",
    "            # were we really sure? if so, don't change too much.\n",
    "            layer_2_delta = layer_2_error*sigmoid_deriv(layer_2)\n",
    "            \n",
    "            # how much did each layer_1 value contribute to the\n",
    "            # layer_2 error?\n",
    "            layer_1_error = layer_2_delta.dot(synapse_1.T)\n",
    "            \n",
    "            # in what direction is the target layer_1?\n",
    "            # were we really sure? if so, don't change too much.\n",
    "            layer_1_delta = layer_1_error*sigmoid_deriv(layer_1)\n",
    "            \n",
    "            synapse_1 -= alpha*(layer_1.T.dot(layer_2_delta))\n",
    "            synapse_0 -= alpha*(layer_0.T.dot(layer_1_delta))\n",
    "            "
   ]
  },
  {
   "cell_type": "code",
   "execution_count": null,
   "metadata": {
    "collapsed": true
   },
   "outputs": [],
   "source": []
  }
 ],
 "metadata": {
  "kernelspec": {
   "display_name": "Python 3",
   "language": "python",
   "name": "python3"
  },
  "language_info": {
   "codemirror_mode": {
    "name": "ipython",
    "version": 3
   },
   "file_extension": ".py",
   "mimetype": "text/x-python",
   "name": "python",
   "nbconvert_exporter": "python",
   "pygments_lexer": "ipython3",
   "version": "3.6.0"
  }
 },
 "nbformat": 4,
 "nbformat_minor": 2
}
